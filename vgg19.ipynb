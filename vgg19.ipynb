{
  "cells": [
    {
      "cell_type": "markdown",
      "metadata": {
        "id": "view-in-github",
        "colab_type": "text"
      },
      "source": [
        "<a href=\"https://colab.research.google.com/github/hanyang-lee/R_PY_Computing/blob/master/vgg19.ipynb\" target=\"_parent\"><img src=\"https://colab.research.google.com/assets/colab-badge.svg\" alt=\"Open In Colab\"/></a>"
      ]
    },
    {
      "cell_type": "markdown",
      "metadata": {
        "id": "JlHtNUAoZdRd"
      },
      "source": [
        "Import"
      ]
    },
    {
      "cell_type": "code",
      "source": [
        "!nvidia-smi"
      ],
      "metadata": {
        "colab": {
          "base_uri": "https://localhost:8080/"
        },
        "id": "0USLtvVFl7dH",
        "outputId": "1bbd57c5-4b1b-4f1b-b481-7f32a2232159"
      },
      "execution_count": 1,
      "outputs": [
        {
          "output_type": "stream",
          "name": "stdout",
          "text": [
            "Sun Jun 12 23:49:07 2022       \n",
            "+-----------------------------------------------------------------------------+\n",
            "| NVIDIA-SMI 460.32.03    Driver Version: 460.32.03    CUDA Version: 11.2     |\n",
            "|-------------------------------+----------------------+----------------------+\n",
            "| GPU  Name        Persistence-M| Bus-Id        Disp.A | Volatile Uncorr. ECC |\n",
            "| Fan  Temp  Perf  Pwr:Usage/Cap|         Memory-Usage | GPU-Util  Compute M. |\n",
            "|                               |                      |               MIG M. |\n",
            "|===============================+======================+======================|\n",
            "|   0  Tesla T4            Off  | 00000000:00:04.0 Off |                    0 |\n",
            "| N/A   39C    P8    11W /  70W |      0MiB / 15109MiB |      0%      Default |\n",
            "|                               |                      |                  N/A |\n",
            "+-------------------------------+----------------------+----------------------+\n",
            "                                                                               \n",
            "+-----------------------------------------------------------------------------+\n",
            "| Processes:                                                                  |\n",
            "|  GPU   GI   CI        PID   Type   Process name                  GPU Memory |\n",
            "|        ID   ID                                                   Usage      |\n",
            "|=============================================================================|\n",
            "|  No running processes found                                                 |\n",
            "+-----------------------------------------------------------------------------+\n"
          ]
        }
      ]
    },
    {
      "cell_type": "code",
      "execution_count": 2,
      "metadata": {
        "id": "-26VdHr3Yl-H"
      },
      "outputs": [],
      "source": [
        "import numpy as np\n",
        "import random\n",
        "import os\n",
        "import math\n",
        "\n",
        "from glob import glob\n",
        "import pandas as pd\n",
        "import cv2\n",
        "from tqdm.auto import tqdm\n",
        "\n",
        "import torch\n",
        "import torchvision\n",
        "import torchvision.transforms as transforms\n",
        "import torch.nn as nn\n",
        "import torch.optim as optim\n",
        "import torch.nn.functional as F\n",
        "\n",
        "import torchvision.models as models\n",
        "\n",
        "from torchsummary import summary"
      ]
    },
    {
      "cell_type": "code",
      "execution_count": 3,
      "metadata": {
        "id": "EzJWXyIFYx_U"
      },
      "outputs": [],
      "source": [
        "device = torch.device('cuda') if torch.cuda.is_available() else torch.device('cpu')"
      ]
    },
    {
      "cell_type": "markdown",
      "metadata": {
        "id": "zbr4Gv7xZdlI"
      },
      "source": [
        "Hyperparameter 설정"
      ]
    },
    {
      "cell_type": "code",
      "execution_count": 4,
      "metadata": {
        "id": "__048mGkZp88"
      },
      "outputs": [],
      "source": [
        "CFG = {\n",
        "    'IMG_SIZE':224,\n",
        "    'EPOCHS':10,\n",
        "    'LEARNING_RATE':0.05,\n",
        "    'SEED':41,\n",
        "}"
      ]
    },
    {
      "cell_type": "markdown",
      "metadata": {
        "id": "R72dOTHGpKqT"
      },
      "source": [
        "seed 고정"
      ]
    },
    {
      "cell_type": "code",
      "execution_count": 5,
      "metadata": {
        "id": "XCX_RxzTpEo-"
      },
      "outputs": [],
      "source": [
        "def seed_everything(seed):\n",
        "    random.seed(seed)\n",
        "    os.environ['PYTHONHASHSEED'] = str(seed)\n",
        "    np.random.seed(seed)\n",
        "    torch.manual_seed(seed)\n",
        "    torch.cuda.manual_seed(seed)\n",
        "    torch.backends.cudnn.deterministic = True\n",
        "    torch.backends.cudnn.benchmark = True\n",
        "\n",
        "seed_everything(CFG['SEED']) # Seed 고정"
      ]
    },
    {
      "cell_type": "markdown",
      "metadata": {
        "id": "KiseLCb6-puq"
      },
      "source": [
        "Define Model Architecture"
      ]
    },
    {
      "cell_type": "code",
      "execution_count": 6,
      "metadata": {
        "id": "VBFnAvRpmj9d"
      },
      "outputs": [],
      "source": [
        "class VGG(torch.nn.Module):\n",
        "  def __init__(self, cifar=False):\n",
        "    super(VGG, self).__init__()\n",
        "    self.layer1 = torch.nn.Sequential(\n",
        "        nn.Conv2d(3, 64, kernel_size=3, stride=1, padding=1),\n",
        "        nn.ReLU(),\n",
        "        nn.Conv2d(64, 64, kernel_size=3, stride=1, padding=1),\n",
        "        nn.ReLU(),\n",
        "        nn.MaxPool2d(kernel_size=2, stride=2)\n",
        "    )\n",
        "\n",
        "    self.layer2 = torch.nn.Sequential(\n",
        "        nn.Conv2d(64, 128, kernel_size=3, stride=1, padding=1),\n",
        "        nn.ReLU(),\n",
        "        nn.Conv2d(128, 128, kernel_size=3, stride=1, padding=1),\n",
        "        nn.ReLU(),\n",
        "        nn.MaxPool2d(kernel_size=2, stride=2)\n",
        "    )\n",
        "        \n",
        "    self.layer3 = torch.nn.Sequential(\n",
        "        nn.Conv2d(128, 256, kernel_size=3, stride=1, padding=1),\n",
        "        nn.ReLU(),\n",
        "        nn.Conv2d(256, 256, kernel_size=3, stride=1, padding=1),\n",
        "        nn.ReLU(),\n",
        "        nn.Conv2d(256, 256, kernel_size=3, stride=1, padding=1),\n",
        "        nn.ReLU(),\n",
        "        nn.Conv2d(256, 256, kernel_size=3, stride=1, padding=1),\n",
        "        nn.ReLU(),\n",
        "        nn.MaxPool2d(kernel_size=2, stride=2)\n",
        "    )\n",
        "\n",
        "    self.layer4 = torch.nn.Sequential(\n",
        "        nn.Conv2d(256, 512, kernel_size=3, stride=1, padding=1),\n",
        "        nn.ReLU(),\n",
        "        nn.Conv2d(512, 512, kernel_size=3, stride=1, padding=1),\n",
        "        nn.ReLU(),\n",
        "        nn.Conv2d(512, 512, kernel_size=3, stride=1, padding=1),\n",
        "        nn.ReLU(),\n",
        "        nn.Conv2d(512, 512, kernel_size=3, stride=1, padding=1),\n",
        "        nn.ReLU(),\n",
        "        nn.MaxPool2d(kernel_size=2, stride=2)\n",
        "    )\n",
        "\n",
        "    self.layer5 = torch.nn.Sequential(\n",
        "        nn.Conv2d(512, 512, kernel_size=3, stride=1, padding=1),\n",
        "        nn.ReLU(),\n",
        "        nn.Conv2d(512, 512, kernel_size=3, stride=1, padding=1),\n",
        "        nn.ReLU(),\n",
        "        nn.Conv2d(512, 512, kernel_size=3, stride=1, padding=1),\n",
        "        nn.ReLU(),\n",
        "        nn.Conv2d(512, 512, kernel_size=3, stride=1, padding=1),\n",
        "        nn.ReLU(),\n",
        "        nn.MaxPool2d(kernel_size=2, stride=2)\n",
        "    )\n",
        "    self.adapt = nn.AdaptiveAvgPool2d((1,1)) #이건 왜 있는걸까? (batch,1,1,512)\n",
        "\n",
        "    self.classifier= nn.Sequential(\n",
        "      nn.Linear(512,512),\n",
        "      nn.ReLU(),\n",
        "      nn.Dropout(0.5),\n",
        "      nn.Linear(512,512),\n",
        "      nn.ReLU(),\n",
        "      nn.Dropout(0.5),\n",
        "      nn.Linear(512,1000)\n",
        "      )\n",
        "      \n",
        "    if cifar:\n",
        "      self.classifier = nn.Sequential(\n",
        "          nn.Linear(512,512),\n",
        "          nn.ReLU(),\n",
        "          nn.Dropout(0.5),\n",
        "          nn.Linear(512,258),\n",
        "          nn.ReLU(),\n",
        "          nn.Dropout(0.5),\n",
        "          nn.Linear(258,10)\n",
        "      )\n",
        "\n",
        "  def forward(self, x):\n",
        "    #cnn model (batch, 3, 224, 224) -> (batch, 512, 7, 7)\n",
        "    #(batch, 3, 224, 224)\n",
        "    x = self.layer1(x)\n",
        "    #(batch, 64, 112, 112)\n",
        "    x = self.layer2(x)\n",
        "    #(batch, 128, 56, 56)\n",
        "    x = self.layer3(x)\n",
        "    #(batch, 256, 28, 28)\n",
        "    x = self.layer4(x)\n",
        "    #(batch, 512, 14, 14)\n",
        "    x = self.layer5(x)\n",
        "    x = self.adapt(x)\n",
        "    #(batch, 512, 7, 7) -> Flatten(batch, 512*7*7(=25088))\n",
        "    x= torch.flatten(x, start_dim=1)\n",
        "    #Regressor (batch, 25088) -> (batch, 1000)\n",
        "    out = self.classifier(x)\n",
        "    return out"
      ]
    },
    {
      "cell_type": "markdown",
      "metadata": {
        "id": "-0Dq0-9g0iQD"
      },
      "source": [
        "train, test data setting"
      ]
    },
    {
      "cell_type": "code",
      "execution_count": 7,
      "metadata": {
        "colab": {
          "base_uri": "https://localhost:8080/",
          "height": 104,
          "referenced_widgets": [
            "cbfd9417c5b347b0895063e6d98d0753",
            "54264a591ae54d358b48a7b7fd806299",
            "5b2c9505f4f44a168183148fbd20dd85",
            "7dbe087aeda94b9995ac27ae96762813",
            "01c640b8ef164644b5cd50ceef77b9b6",
            "a1e64d3a03944f9dbc22c4480a7baa7a",
            "a6de21651a1c43b69aa1745e78bcb265",
            "15e1ff8c219a48fcbe2d8fea8c2b6f96",
            "ea533bcc7e40449b813afa6a7eaa7fa3",
            "b5f1a0ac2e074f8daf246440279b14e3",
            "c7a6f03570984cfa8f5fd21d7756c9de"
          ]
        },
        "id": "crLM6h-UzncQ",
        "outputId": "bb71ac61-6731-4a36-fa29-f5173dcba709"
      },
      "outputs": [
        {
          "output_type": "stream",
          "name": "stdout",
          "text": [
            "Downloading https://www.cs.toronto.edu/~kriz/cifar-10-python.tar.gz to ./data/cifar-10-python.tar.gz\n"
          ]
        },
        {
          "output_type": "display_data",
          "data": {
            "text/plain": [
              "  0%|          | 0/170498071 [00:00<?, ?it/s]"
            ],
            "application/vnd.jupyter.widget-view+json": {
              "version_major": 2,
              "version_minor": 0,
              "model_id": "cbfd9417c5b347b0895063e6d98d0753"
            }
          },
          "metadata": {}
        },
        {
          "output_type": "stream",
          "name": "stdout",
          "text": [
            "Extracting ./data/cifar-10-python.tar.gz to ./data\n",
            "Files already downloaded and verified\n"
          ]
        }
      ],
      "source": [
        "transform_train = transforms.Compose([\n",
        "    # transforms.RandomCrop(32, padding=4),\n",
        "    transforms.RandomHorizontalFlip(),\n",
        "    transforms.ToTensor(),\n",
        "    transforms.Normalize(mean=0,std=1)\n",
        "])\n",
        "\n",
        "transform_test = transforms.Compose([\n",
        "    transforms.ToTensor(),\n",
        "    transforms.Normalize(mean=0,std=1),\n",
        "])\n",
        "\n",
        "train_dataset = torchvision.datasets.CIFAR10(root='./data', train=True, download=True, transform=transform_train)\n",
        "test_dataset = torchvision.datasets.CIFAR10(root='./data', train=False, download=True, transform=transform_test)\n",
        "\n",
        "train_loader = torch.utils.data.DataLoader(train_dataset, batch_size=128, shuffle=True, num_workers=2)\n",
        "test_loader = torch.utils.data.DataLoader(test_dataset, batch_size=128, shuffle=False, num_workers=2)"
      ]
    },
    {
      "cell_type": "markdown",
      "metadata": {
        "id": "s78HI_f81W25"
      },
      "source": [
        "make model"
      ]
    },
    {
      "cell_type": "code",
      "execution_count": 8,
      "metadata": {
        "id": "A5tpiKDq1Zlb"
      },
      "outputs": [],
      "source": [
        "model = VGG(cifar=True)\n",
        "model = model.to(device)"
      ]
    },
    {
      "cell_type": "code",
      "execution_count": 9,
      "metadata": {
        "id": "KAefObJr2T7v"
      },
      "outputs": [],
      "source": [
        "model_name = 'model.pth'\n",
        "\n",
        "loss_fn = nn.CrossEntropyLoss() #softmax의 log 결과를 cross entropy loss값의 결과로 내주는 함수\n",
        "optimizer = optim.SGD(model.parameters(), lr=CFG[\"LEARNING_RATE\"], momentum=0.9, weight_decay=0.0001)\n",
        "\n",
        "train_loss = 0\n",
        "valid_loss = 0\n",
        "correct = 0\n",
        "total_cnt = 0\n",
        "best_acc = 0"
      ]
    },
    {
      "cell_type": "markdown",
      "metadata": {
        "id": "D5NH7JVM3Ueq"
      },
      "source": [
        "train and test"
      ]
    },
    {
      "cell_type": "code",
      "execution_count": 10,
      "metadata": {
        "colab": {
          "base_uri": "https://localhost:8080/"
        },
        "id": "-ICrz0Fu3QJU",
        "outputId": "8f1e0411-36d0-4e15-c076-7b3ee10e314e"
      },
      "outputs": [
        {
          "output_type": "stream",
          "name": "stdout",
          "text": [
            "====== 1 epoch of 10 ======\n",
            "\n",
            "====== 100 Step of 391 ======\n",
            "Train Acc : 0.0999381188118812\n",
            "Train Loss : 0.01802205480635166\n",
            "\n",
            "====== 200 Step of 391 ======\n",
            "Train Acc : 0.09771455223880597\n",
            "Train Loss : 0.017991380766034126\n",
            "\n",
            "====== 300 Step of 391 ======\n",
            "Train Acc : 0.09946013289036545\n",
            "Train Loss : 0.018049923703074455\n",
            "\n",
            "Test Acc : 0.1\n",
            "Test Loss : 0.018199510872364044\n",
            "Model Saved!\n",
            "====== 2 epoch of 10 ======\n",
            "\n",
            "====== 100 Step of 391 ======\n",
            "Train Acc : 0.0968440594059406\n",
            "Train Loss : 0.017996691167354584\n",
            "\n",
            "====== 200 Step of 391 ======\n",
            "Train Acc : 0.09678171641791045\n",
            "Train Loss : 0.017963483929634094\n",
            "\n",
            "====== 300 Step of 391 ======\n",
            "Train Acc : 0.09665697674418605\n",
            "Train Loss : 0.017977874726057053\n",
            "\n",
            "Test Acc : 0.1\n",
            "Test Loss : 0.01820354349911213\n",
            "====== 3 epoch of 10 ======\n",
            "\n",
            "====== 100 Step of 391 ======\n",
            "Train Acc : 0.1021039603960396\n",
            "Train Loss : 0.017952146008610725\n",
            "\n",
            "====== 200 Step of 391 ======\n",
            "Train Acc : 0.10366138059701492\n",
            "Train Loss : 0.01799849607050419\n",
            "\n",
            "====== 300 Step of 391 ======\n",
            "Train Acc : 0.10161441029900332\n",
            "Train Loss : 0.017972584813833237\n",
            "\n",
            "Test Acc : 0.1\n",
            "Test Loss : 0.01819407194852829\n",
            "====== 4 epoch of 10 ======\n",
            "\n",
            "====== 100 Step of 391 ======\n",
            "Train Acc : 0.09924195544554455\n",
            "Train Loss : 0.018089400604367256\n",
            "\n",
            "====== 200 Step of 391 ======\n",
            "Train Acc : 0.0992304104477612\n",
            "Train Loss : 0.01798456907272339\n",
            "\n",
            "====== 300 Step of 391 ======\n",
            "Train Acc : 0.09831810631229236\n",
            "Train Loss : 0.017998548224568367\n",
            "\n",
            "Test Acc : 0.1\n",
            "Test Loss : 0.018194662407040596\n",
            "====== 5 epoch of 10 ======\n",
            "\n",
            "====== 100 Step of 391 ======\n",
            "Train Acc : 0.10272277227722772\n",
            "Train Loss : 0.017963746562600136\n",
            "\n",
            "====== 200 Step of 391 ======\n",
            "Train Acc : 0.10047419154228855\n",
            "Train Loss : 0.01799238845705986\n",
            "\n",
            "====== 300 Step of 391 ======\n",
            "Train Acc : 0.09977159468438539\n",
            "Train Loss : 0.017996564507484436\n",
            "\n",
            "Test Acc : 0.1\n",
            "Test Loss : 0.018197176977992058\n",
            "====== 6 epoch of 10 ======\n",
            "\n",
            "====== 100 Step of 391 ======\n",
            "Train Acc : 0.09413675742574257\n",
            "Train Loss : 0.018029605969786644\n",
            "\n",
            "====== 200 Step of 391 ======\n",
            "Train Acc : 0.09728700248756218\n",
            "Train Loss : 0.01797565445303917\n",
            "\n",
            "====== 300 Step of 391 ======\n",
            "Train Acc : 0.09873338870431894\n",
            "Train Loss : 0.018010295927524567\n",
            "\n",
            "Test Acc : 0.1\n",
            "Test Loss : 0.018196024000644684\n",
            "====== 7 epoch of 10 ======\n",
            "\n",
            "====== 100 Step of 391 ======\n",
            "Train Acc : 0.09978341584158416\n",
            "Train Loss : 0.01797926425933838\n",
            "\n",
            "====== 200 Step of 391 ======\n",
            "Train Acc : 0.10047419154228855\n",
            "Train Loss : 0.01798180118203163\n",
            "\n",
            "====== 300 Step of 391 ======\n",
            "Train Acc : 0.09964181893687708\n",
            "Train Loss : 0.017990408465266228\n",
            "\n",
            "Test Acc : 0.1\n",
            "Test Loss : 0.018196048215031624\n",
            "====== 8 epoch of 10 ======\n",
            "\n",
            "====== 100 Step of 391 ======\n",
            "Train Acc : 0.09746287128712872\n",
            "Train Loss : 0.01800701767206192\n",
            "\n",
            "====== 200 Step of 391 ======\n",
            "Train Acc : 0.09934701492537314\n",
            "Train Loss : 0.018034357577562332\n",
            "\n",
            "====== 300 Step of 391 ======\n",
            "Train Acc : 0.09997923588039867\n",
            "Train Loss : 0.018009137362241745\n",
            "\n",
            "Test Acc : 0.1\n",
            "Test Loss : 0.018199635669589043\n",
            "====== 9 epoch of 10 ======\n",
            "\n",
            "====== 100 Step of 391 ======\n",
            "Train Acc : 0.1021039603960396\n",
            "Train Loss : 0.018055930733680725\n",
            "\n",
            "====== 200 Step of 391 ======\n",
            "Train Acc : 0.10261194029850747\n",
            "Train Loss : 0.01798275113105774\n",
            "\n",
            "====== 300 Step of 391 ======\n",
            "Train Acc : 0.10236710963455149\n",
            "Train Loss : 0.0179753415286541\n",
            "\n",
            "Test Acc : 0.1\n",
            "Test Loss : 0.018199803307652473\n",
            "====== 10 epoch of 10 ======\n",
            "\n",
            "====== 100 Step of 391 ======\n",
            "Train Acc : 0.10357363861386139\n",
            "Train Loss : 0.01800970546901226\n",
            "\n",
            "====== 200 Step of 391 ======\n",
            "Train Acc : 0.09981343283582089\n",
            "Train Loss : 0.017973778769373894\n",
            "\n",
            "====== 300 Step of 391 ======\n",
            "Train Acc : 0.09857765780730897\n",
            "Train Loss : 0.01795041188597679\n",
            "\n",
            "Test Acc : 0.1\n",
            "Test Loss : 0.018196024000644684\n"
          ]
        }
      ],
      "source": [
        "epoch_num = CFG[\"EPOCHS\"]\n",
        "for epoch in range(epoch_num):\n",
        "  print(f\"====== { epoch+1} epoch of { epoch_num } ======\")\n",
        "  model.train()\n",
        "  \n",
        "  train_loss = 0\n",
        "  test_loss = 0\n",
        "  correct = 0\n",
        "  total_cnt = 0\n",
        "\n",
        "  for step, (x,y) in enumerate(train_loader):\n",
        "    x ,y = x.to(device), y.to(device)\n",
        "    \n",
        "    optimizer.zero_grad() #gradient를 zero로\n",
        "\n",
        "    logits = model(x) # (batch, # class)\n",
        "    loss = loss_fn(logits, y) \n",
        "    loss.backward()\n",
        "\n",
        "    optimizer.step()\n",
        "    train_loss += loss.item()\n",
        "    predict = logits.argmax(dim=1) # (batch,)\n",
        "\n",
        "    total_cnt += y.size(0)\n",
        "    correct += predict.eq(y).sum().item() # (predict==y).sum().item()\n",
        "\n",
        "    if step % 100 == 0 and step != 0:\n",
        "      print(f\"\\n====== { step } Step of { len(train_loader) } ======\")\n",
        "      print(f\"Train Acc : { correct / total_cnt }\")\n",
        "      print(f\"Train Loss : { loss.item() / y.size(0) }\")\n",
        "  \n",
        "  correct = 0\n",
        "  total_cnt = 0\n",
        "\n",
        "  with torch.no_grad(): #autograd engine을 비활성화\n",
        "    model.eval() #해당 모델의 모든 layer를 evaluation mode로 torch.no_grad()와 eval() 함수는 같이 쓰임\n",
        "    for step, batch in enumerate(test_loader):\n",
        "      batch[0], batch[1] = batch[0].to(device), batch[1].to(device)\n",
        "      total_cnt += batch[1].size(0)\n",
        "      logits = model(batch[0])\n",
        "      test_loss += loss_fn(logits, batch[1])\n",
        "      _, predict = logits.max(1)\n",
        "      correct += predict.eq(batch[1]).sum().item()\n",
        "    test_acc = correct / total_cnt\n",
        "    print(f\"\\nTest Acc : { test_acc }\")    \n",
        "    print(f\"Test Loss : { test_loss / total_cnt }\")\n",
        "\n",
        "    if(test_acc > best_acc):\n",
        "      best_acc = test_acc\n",
        "      torch.save(model, model_name)\n",
        "      print(\"Model Saved!\")"
      ]
    },
    {
      "cell_type": "code",
      "source": [
        ""
      ],
      "metadata": {
        "id": "8ix4IyigUtRm"
      },
      "execution_count": null,
      "outputs": []
    }
  ],
  "metadata": {
    "colab": {
      "collapsed_sections": [],
      "name": "vgg19.ipynb",
      "provenance": [],
      "include_colab_link": true
    },
    "kernelspec": {
      "display_name": "Python 3",
      "name": "python3"
    },
    "language_info": {
      "name": "python"
    },
    "accelerator": "GPU",
    "widgets": {
      "application/vnd.jupyter.widget-state+json": {
        "cbfd9417c5b347b0895063e6d98d0753": {
          "model_module": "@jupyter-widgets/controls",
          "model_name": "HBoxModel",
          "model_module_version": "1.5.0",
          "state": {
            "_dom_classes": [],
            "_model_module": "@jupyter-widgets/controls",
            "_model_module_version": "1.5.0",
            "_model_name": "HBoxModel",
            "_view_count": null,
            "_view_module": "@jupyter-widgets/controls",
            "_view_module_version": "1.5.0",
            "_view_name": "HBoxView",
            "box_style": "",
            "children": [
              "IPY_MODEL_54264a591ae54d358b48a7b7fd806299",
              "IPY_MODEL_5b2c9505f4f44a168183148fbd20dd85",
              "IPY_MODEL_7dbe087aeda94b9995ac27ae96762813"
            ],
            "layout": "IPY_MODEL_01c640b8ef164644b5cd50ceef77b9b6"
          }
        },
        "54264a591ae54d358b48a7b7fd806299": {
          "model_module": "@jupyter-widgets/controls",
          "model_name": "HTMLModel",
          "model_module_version": "1.5.0",
          "state": {
            "_dom_classes": [],
            "_model_module": "@jupyter-widgets/controls",
            "_model_module_version": "1.5.0",
            "_model_name": "HTMLModel",
            "_view_count": null,
            "_view_module": "@jupyter-widgets/controls",
            "_view_module_version": "1.5.0",
            "_view_name": "HTMLView",
            "description": "",
            "description_tooltip": null,
            "layout": "IPY_MODEL_a1e64d3a03944f9dbc22c4480a7baa7a",
            "placeholder": "​",
            "style": "IPY_MODEL_a6de21651a1c43b69aa1745e78bcb265",
            "value": ""
          }
        },
        "5b2c9505f4f44a168183148fbd20dd85": {
          "model_module": "@jupyter-widgets/controls",
          "model_name": "FloatProgressModel",
          "model_module_version": "1.5.0",
          "state": {
            "_dom_classes": [],
            "_model_module": "@jupyter-widgets/controls",
            "_model_module_version": "1.5.0",
            "_model_name": "FloatProgressModel",
            "_view_count": null,
            "_view_module": "@jupyter-widgets/controls",
            "_view_module_version": "1.5.0",
            "_view_name": "ProgressView",
            "bar_style": "success",
            "description": "",
            "description_tooltip": null,
            "layout": "IPY_MODEL_15e1ff8c219a48fcbe2d8fea8c2b6f96",
            "max": 170498071,
            "min": 0,
            "orientation": "horizontal",
            "style": "IPY_MODEL_ea533bcc7e40449b813afa6a7eaa7fa3",
            "value": 170498071
          }
        },
        "7dbe087aeda94b9995ac27ae96762813": {
          "model_module": "@jupyter-widgets/controls",
          "model_name": "HTMLModel",
          "model_module_version": "1.5.0",
          "state": {
            "_dom_classes": [],
            "_model_module": "@jupyter-widgets/controls",
            "_model_module_version": "1.5.0",
            "_model_name": "HTMLModel",
            "_view_count": null,
            "_view_module": "@jupyter-widgets/controls",
            "_view_module_version": "1.5.0",
            "_view_name": "HTMLView",
            "description": "",
            "description_tooltip": null,
            "layout": "IPY_MODEL_b5f1a0ac2e074f8daf246440279b14e3",
            "placeholder": "​",
            "style": "IPY_MODEL_c7a6f03570984cfa8f5fd21d7756c9de",
            "value": " 170499072/? [00:06&lt;00:00, 31976521.78it/s]"
          }
        },
        "01c640b8ef164644b5cd50ceef77b9b6": {
          "model_module": "@jupyter-widgets/base",
          "model_name": "LayoutModel",
          "model_module_version": "1.2.0",
          "state": {
            "_model_module": "@jupyter-widgets/base",
            "_model_module_version": "1.2.0",
            "_model_name": "LayoutModel",
            "_view_count": null,
            "_view_module": "@jupyter-widgets/base",
            "_view_module_version": "1.2.0",
            "_view_name": "LayoutView",
            "align_content": null,
            "align_items": null,
            "align_self": null,
            "border": null,
            "bottom": null,
            "display": null,
            "flex": null,
            "flex_flow": null,
            "grid_area": null,
            "grid_auto_columns": null,
            "grid_auto_flow": null,
            "grid_auto_rows": null,
            "grid_column": null,
            "grid_gap": null,
            "grid_row": null,
            "grid_template_areas": null,
            "grid_template_columns": null,
            "grid_template_rows": null,
            "height": null,
            "justify_content": null,
            "justify_items": null,
            "left": null,
            "margin": null,
            "max_height": null,
            "max_width": null,
            "min_height": null,
            "min_width": null,
            "object_fit": null,
            "object_position": null,
            "order": null,
            "overflow": null,
            "overflow_x": null,
            "overflow_y": null,
            "padding": null,
            "right": null,
            "top": null,
            "visibility": null,
            "width": null
          }
        },
        "a1e64d3a03944f9dbc22c4480a7baa7a": {
          "model_module": "@jupyter-widgets/base",
          "model_name": "LayoutModel",
          "model_module_version": "1.2.0",
          "state": {
            "_model_module": "@jupyter-widgets/base",
            "_model_module_version": "1.2.0",
            "_model_name": "LayoutModel",
            "_view_count": null,
            "_view_module": "@jupyter-widgets/base",
            "_view_module_version": "1.2.0",
            "_view_name": "LayoutView",
            "align_content": null,
            "align_items": null,
            "align_self": null,
            "border": null,
            "bottom": null,
            "display": null,
            "flex": null,
            "flex_flow": null,
            "grid_area": null,
            "grid_auto_columns": null,
            "grid_auto_flow": null,
            "grid_auto_rows": null,
            "grid_column": null,
            "grid_gap": null,
            "grid_row": null,
            "grid_template_areas": null,
            "grid_template_columns": null,
            "grid_template_rows": null,
            "height": null,
            "justify_content": null,
            "justify_items": null,
            "left": null,
            "margin": null,
            "max_height": null,
            "max_width": null,
            "min_height": null,
            "min_width": null,
            "object_fit": null,
            "object_position": null,
            "order": null,
            "overflow": null,
            "overflow_x": null,
            "overflow_y": null,
            "padding": null,
            "right": null,
            "top": null,
            "visibility": null,
            "width": null
          }
        },
        "a6de21651a1c43b69aa1745e78bcb265": {
          "model_module": "@jupyter-widgets/controls",
          "model_name": "DescriptionStyleModel",
          "model_module_version": "1.5.0",
          "state": {
            "_model_module": "@jupyter-widgets/controls",
            "_model_module_version": "1.5.0",
            "_model_name": "DescriptionStyleModel",
            "_view_count": null,
            "_view_module": "@jupyter-widgets/base",
            "_view_module_version": "1.2.0",
            "_view_name": "StyleView",
            "description_width": ""
          }
        },
        "15e1ff8c219a48fcbe2d8fea8c2b6f96": {
          "model_module": "@jupyter-widgets/base",
          "model_name": "LayoutModel",
          "model_module_version": "1.2.0",
          "state": {
            "_model_module": "@jupyter-widgets/base",
            "_model_module_version": "1.2.0",
            "_model_name": "LayoutModel",
            "_view_count": null,
            "_view_module": "@jupyter-widgets/base",
            "_view_module_version": "1.2.0",
            "_view_name": "LayoutView",
            "align_content": null,
            "align_items": null,
            "align_self": null,
            "border": null,
            "bottom": null,
            "display": null,
            "flex": null,
            "flex_flow": null,
            "grid_area": null,
            "grid_auto_columns": null,
            "grid_auto_flow": null,
            "grid_auto_rows": null,
            "grid_column": null,
            "grid_gap": null,
            "grid_row": null,
            "grid_template_areas": null,
            "grid_template_columns": null,
            "grid_template_rows": null,
            "height": null,
            "justify_content": null,
            "justify_items": null,
            "left": null,
            "margin": null,
            "max_height": null,
            "max_width": null,
            "min_height": null,
            "min_width": null,
            "object_fit": null,
            "object_position": null,
            "order": null,
            "overflow": null,
            "overflow_x": null,
            "overflow_y": null,
            "padding": null,
            "right": null,
            "top": null,
            "visibility": null,
            "width": null
          }
        },
        "ea533bcc7e40449b813afa6a7eaa7fa3": {
          "model_module": "@jupyter-widgets/controls",
          "model_name": "ProgressStyleModel",
          "model_module_version": "1.5.0",
          "state": {
            "_model_module": "@jupyter-widgets/controls",
            "_model_module_version": "1.5.0",
            "_model_name": "ProgressStyleModel",
            "_view_count": null,
            "_view_module": "@jupyter-widgets/base",
            "_view_module_version": "1.2.0",
            "_view_name": "StyleView",
            "bar_color": null,
            "description_width": ""
          }
        },
        "b5f1a0ac2e074f8daf246440279b14e3": {
          "model_module": "@jupyter-widgets/base",
          "model_name": "LayoutModel",
          "model_module_version": "1.2.0",
          "state": {
            "_model_module": "@jupyter-widgets/base",
            "_model_module_version": "1.2.0",
            "_model_name": "LayoutModel",
            "_view_count": null,
            "_view_module": "@jupyter-widgets/base",
            "_view_module_version": "1.2.0",
            "_view_name": "LayoutView",
            "align_content": null,
            "align_items": null,
            "align_self": null,
            "border": null,
            "bottom": null,
            "display": null,
            "flex": null,
            "flex_flow": null,
            "grid_area": null,
            "grid_auto_columns": null,
            "grid_auto_flow": null,
            "grid_auto_rows": null,
            "grid_column": null,
            "grid_gap": null,
            "grid_row": null,
            "grid_template_areas": null,
            "grid_template_columns": null,
            "grid_template_rows": null,
            "height": null,
            "justify_content": null,
            "justify_items": null,
            "left": null,
            "margin": null,
            "max_height": null,
            "max_width": null,
            "min_height": null,
            "min_width": null,
            "object_fit": null,
            "object_position": null,
            "order": null,
            "overflow": null,
            "overflow_x": null,
            "overflow_y": null,
            "padding": null,
            "right": null,
            "top": null,
            "visibility": null,
            "width": null
          }
        },
        "c7a6f03570984cfa8f5fd21d7756c9de": {
          "model_module": "@jupyter-widgets/controls",
          "model_name": "DescriptionStyleModel",
          "model_module_version": "1.5.0",
          "state": {
            "_model_module": "@jupyter-widgets/controls",
            "_model_module_version": "1.5.0",
            "_model_name": "DescriptionStyleModel",
            "_view_count": null,
            "_view_module": "@jupyter-widgets/base",
            "_view_module_version": "1.2.0",
            "_view_name": "StyleView",
            "description_width": ""
          }
        }
      }
    }
  },
  "nbformat": 4,
  "nbformat_minor": 0
}